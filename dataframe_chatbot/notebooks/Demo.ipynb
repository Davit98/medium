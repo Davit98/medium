{
 "cells": [
  {
   "cell_type": "code",
   "execution_count": 1,
   "id": "59c0e1ca-1f3a-4170-8ec2-74cf1f6001ab",
   "metadata": {},
   "outputs": [],
   "source": [
    "%load_ext autoreload\n",
    "%autoreload 2"
   ]
  },
  {
   "cell_type": "code",
   "execution_count": 2,
   "id": "8394564f-a373-4d45-8167-adffa07127aa",
   "metadata": {},
   "outputs": [],
   "source": [
    "import sys\n",
    "sys.path.append('..')"
   ]
  },
  {
   "cell_type": "code",
   "execution_count": null,
   "id": "32585fc9-e215-41a0-a78b-b805f0fa8522",
   "metadata": {},
   "outputs": [],
   "source": [
    "import uuid\n",
    "from langchain_core.messages import HumanMessage\n",
    "from src.ai.pandas_ml_assistant import build_graph"
   ]
  },
  {
   "cell_type": "code",
   "execution_count": 4,
   "id": "9b7b0005-bf5c-4878-9ff1-a4160d8f23e5",
   "metadata": {},
   "outputs": [],
   "source": [
    "async def visualize_dataframe_assistant_graph():\n",
    "    graph = await build_graph()\n",
    "    return graph"
   ]
  },
  {
   "cell_type": "code",
   "execution_count": 5,
   "id": "67ce270b-4980-4a9b-81b1-20795a777087",
   "metadata": {},
   "outputs": [
    {
     "name": "stdout",
     "output_type": "stream",
     "text": [
      "---\n",
      "config:\n",
      "  flowchart:\n",
      "    curve: linear\n",
      "---\n",
      "graph TD;\n",
      "\t__start__([<p>__start__</p>]):::first\n",
      "\tconversation(conversation)\n",
      "\tpandas_agent(pandas_agent)\n",
      "\tml_agent(ml_agent)\n",
      "\t__end__([<p>__end__</p>]):::last\n",
      "\t__start__ --> conversation;\n",
      "\tml_agent --> __end__;\n",
      "\tpandas_agent --> __end__;\n",
      "\tconversation -.-> pandas_agent;\n",
      "\tconversation -.-> ml_agent;\n",
      "\tclassDef default fill:#f2f0ff,line-height:1.2\n",
      "\tclassDef first fill-opacity:0\n",
      "\tclassDef last fill:#bfb6fc\n",
      "\n"
     ]
    }
   ],
   "source": [
    "assistant_graph = await visualize_dataframe_assistant_graph()\n",
    "print(assistant_graph.get_graph().draw_mermaid())"
   ]
  },
  {
   "cell_type": "code",
   "execution_count": 6,
   "id": "ad67ddad-a0b1-4a67-aae9-3b82ea43533d",
   "metadata": {},
   "outputs": [
    {
     "data": {
      "image/png": "[encoded data removed]",
      "text/plain": [
       "<langgraph.graph.state.CompiledStateGraph object at 0x7f04b46c79d0>"
      ]
     },
     "execution_count": 6,
     "metadata": {},
     "output_type": "execute_result"
    }
   ],
   "source": [
    "assistant_graph"
   ]
  },
  {
   "cell_type": "code",
   "execution_count": 7,
   "id": "566f5b22-1e28-4790-a82c-c5bf0bd9b825",
   "metadata": {},
   "outputs": [],
   "source": [
    "thread_id = str(uuid.uuid4())\n",
    "config = {\"configurable\": {\"thread_id\" : thread_id}}"
   ]
  },
  {
   "cell_type": "code",
   "execution_count": 8,
   "id": "3da5b54b-704d-4971-9a56-1620b49b3cb0",
   "metadata": {},
   "outputs": [],
   "source": [
    "async def log_assistant_graph_steps(query: str, config: dict):\n",
    "    step = 1\n",
    "    current_tool = None\n",
    "    async for token, metadata in assistant_graph.astream(\n",
    "            {\"messages\": [HumanMessage(content=query)]}, config=config, stream_mode=\"messages\"\n",
    "    ):\n",
    "        current_node = metadata.get('langgraph_node', 'unknown')\n",
    "        \n",
    "        # Check if this is a tool call by looking at the message content\n",
    "        if hasattr(token, 'tool_calls') and token.tool_calls:\n",
    "            for tool_call in token.tool_calls:\n",
    "                tool_name = tool_call.get('name', 'unknown_tool')\n",
    "                print(f\"\\n🔧 Calling tool: {tool_name}\")\n",
    "                current_tool = tool_name\n",
    "        \n",
    "        # Print step metadata when it changes\n",
    "        if metadata['langgraph_step'] == step:\n",
    "            print(f\"\\n🔄 Step {step}: Node '{current_node}'\")\n",
    "            if current_node == 'tools' and current_tool:\n",
    "                print(f\"   └── Executing tool: {current_tool}\")\n",
    "            print(\"Metadata\", metadata, \"\\n\")\n",
    "            step += 1\n",
    "            \n",
    "        print(token.content, end='', flush=True)"
   ]
  },
  {
   "cell_type": "code",
   "execution_count": 9,
   "id": "b61c7b84-b85b-48ec-970f-5b9d0cde4903",
   "metadata": {},
   "outputs": [
    {
     "name": "stdout",
     "output_type": "stream",
     "text": [
      "\n",
      "🔄 Step 1: Node 'conversation'\n",
      "Metadata {'thread_id': '2c109ba3-8186-464d-a495-d97f74cfe65e', 'langgraph_step': 1, 'langgraph_node': 'conversation', 'langgraph_triggers': ('branch:to:conversation', 'start:conversation'), 'langgraph_path': ('__pregel_pull', 'conversation'), 'langgraph_checkpoint_ns': 'conversation:7a6a079f-6a32-e18f-331d-148151056266', 'checkpoint_ns': 'conversation:7a6a079f-6a32-e18f-331d-148151056266', 'ls_provider': 'ollama', 'ls_model_name': 'gpt-oss:20b', 'ls_model_type': 'chat', 'ls_temperature': 0.7} \n",
      "\n",
      "pandas_agent\n",
      "🔧 Calling tool: python_repl_ast\n",
      "\n",
      "🔄 Step 2: Node 'tools'\n",
      "   └── Executing tool: python_repl_ast\n",
      "Metadata {'thread_id': '2c109ba3-8186-464d-a495-d97f74cfe65e', 'langgraph_step': 2, 'langgraph_node': 'tools', 'langgraph_triggers': ('branch:to:tools',), 'langgraph_path': ('__pregel_pull', 'tools'), 'langgraph_checkpoint_ns': 'pandas_agent:086ee238-59e3-3a68-9696-9dfbaf2c66af|tools:a3954227-35a0-70be-8211-b9219e96b773', 'checkpoint_ns': 'pandas_agent:086ee238-59e3-3a68-9696-9dfbaf2c66af'} \n",
      "\n",
      "[\"age\", \"gender\", \"bmi\", \"daily_steps\", \"sleep_hours\", \"water_intake_l\", \"calories_consumed\", \"smoker\", \"alcohol\", \"resting_hr\", \"systolic_bp\", \"diastolic_bp\", \"cholesterol\", \"family_history\", \"disease_risk\"]\n",
      "🔄 Step 3: Node 'agent'\n",
      "Metadata {'thread_id': '2c109ba3-8186-464d-a495-d97f74cfe65e', 'langgraph_step': 3, 'langgraph_node': 'agent', 'langgraph_triggers': ('branch:to:agent', 'start:agent', 'tools'), 'langgraph_path': ('__pregel_pull', 'agent'), 'langgraph_checkpoint_ns': 'pandas_agent:086ee238-59e3-3a68-9696-9dfbaf2c66af|agent:86ffc193-ba14-16d8-707a-acc001b2381a', 'checkpoint_ns': 'pandas_agent:086ee238-59e3-3a68-9696-9dfbaf2c66af', 'ls_provider': 'ollama', 'ls_model_name': 'gpt-oss:20b', 'ls_model_type': 'chat', 'ls_temperature': 0.7} \n",
      "\n",
      "Here are the column names in your dataset:\n",
      "\n",
      "- age  \n",
      "- gender  \n",
      "- bmi  \n",
      "- daily_steps  \n",
      "- sleep_hours  \n",
      "- water_intake_l  \n",
      "- calories_consumed  \n",
      "- smoker  \n",
      "- alcohol  \n",
      "- resting_hr  \n",
      "- systolic_bp  \n",
      "- diastolic_bp  \n",
      "- cholesterol  \n",
      "- family_history  \n",
      "- disease_risk"
     ]
    }
   ],
   "source": [
    "query = \"List the columns of my dataset.\"\n",
    "await log_assistant_graph_steps(query, config)"
   ]
  },
  {
   "cell_type": "code",
   "execution_count": 10,
   "id": "f038d3ad-95c4-4a04-96aa-035a0b4115fc",
   "metadata": {},
   "outputs": [
    {
     "name": "stdout",
     "output_type": "stream",
     "text": [
      "pandas_agent\n",
      "🔄 Step 1: Node 'agent'\n",
      "Metadata {'thread_id': '2c109ba3-8186-464d-a495-d97f74cfe65e', 'langgraph_step': 1, 'langgraph_node': 'agent', 'langgraph_triggers': ('branch:to:agent', 'start:agent', 'tools'), 'langgraph_path': ('__pregel_pull', 'agent'), 'langgraph_checkpoint_ns': 'pandas_agent:c81af8dc-dcca-1558-9783-ccfe101f630b|agent:68bb6931-6606-1146-6f82-56535b61eb53', 'checkpoint_ns': 'pandas_agent:c81af8dc-dcca-1558-9783-ccfe101f630b', 'ls_provider': 'ollama', 'ls_model_name': 'gpt-oss:20b', 'ls_model_type': 'chat', 'ls_temperature': 0.7} \n",
      "\n",
      "\n",
      "🔧 Calling tool: python_repl_ast\n",
      "\n",
      "🔄 Step 2: Node 'tools'\n",
      "   └── Executing tool: python_repl_ast\n",
      "Metadata {'thread_id': '2c109ba3-8186-464d-a495-d97f74cfe65e', 'langgraph_step': 2, 'langgraph_node': 'tools', 'langgraph_triggers': ('branch:to:tools',), 'langgraph_path': ('__pregel_pull', 'tools'), 'langgraph_checkpoint_ns': 'pandas_agent:c81af8dc-dcca-1558-9783-ccfe101f630b|tools:863ba904-ac15-2534-527c-98f4e6e97f2f', 'checkpoint_ns': 'pandas_agent:c81af8dc-dcca-1558-9783-ccfe101f630b'} \n",
      "\n",
      "                 age            bmi   daily_steps    sleep_hours  \\\n",
      "count  100000.000000  100000.000000  100000.00000  100000.000000   \n",
      "mean       48.525990      29.024790   10479.87029       6.491784   \n",
      "std        17.886768       6.352666    5483.63236       2.021922   \n",
      "min        18.000000      18.000000    1000.00000       3.000000   \n",
      "25%        33.000000      23.500000    5729.00000       4.700000   \n",
      "50%        48.000000      29.000000   10468.00000       6.500000   \n",
      "75%        64.000000      34.500000   15229.00000       8.200000   \n",
      "max        79.000000      40.000000   19999.00000      10.000000   \n",
      "\n",
      "       water_intake_l  calories_consumed         smoker        alcohol  \\\n",
      "count   100000.000000      100000.000000  100000.000000  100000.000000   \n",
      "mean         2.751496        2603.341200       0.200940       0.300020   \n",
      "std          1.297338         807.288563       0.400705       0.458269   \n",
      "min          0.500000        1200.000000       0.000000       0.000000   \n",
      "25%          1.600000        1906.000000       0.000000       0.000000   \n",
      "50%          2.800000        2603.000000       0.000000       0.000000   \n",
      "75%          3.900000        3299.000000       0.000000       1.000000   \n",
      "max          5.000000        3999.000000       1.000000       1.000000   \n",
      "\n",
      "          resting_hr   systolic_bp   diastolic_bp    cholesterol  \\\n",
      "count  100000.000000  100000.00000  100000.000000  100000.000000   \n",
      "mean       74.457420     134.58063      89.508850     224.300630   \n",
      "std        14.423715      25.95153      17.347041      43.327749   \n",
      "min        50.000000      90.00000      60.000000     150.000000   \n",
      "25%        62.000000     112.00000      74.000000     187.000000   \n",
      "50%        74.000000     135.00000      89.000000     224.000000   \n",
      "75%        87.000000     157.00000     105.000000     262.000000   \n",
      "max        99.000000     179.00000     119.000000     299.000000   \n",
      "\n",
      "       family_history   disease_risk  \n",
      "count   100000.000000  100000.000000  \n",
      "mean         0.299150       0.248210  \n",
      "std          0.457888       0.431976  \n",
      "min          0.000000       0.000000  \n",
      "25%          0.000000       0.000000  \n",
      "50%          0.000000       0.000000  \n",
      "75%          1.000000       0.000000  \n",
      "max          1.000000       1.000000  \n",
      "🔄 Step 3: Node 'agent'\n",
      "Metadata {'thread_id': '2c109ba3-8186-464d-a495-d97f74cfe65e', 'langgraph_step': 3, 'langgraph_node': 'agent', 'langgraph_triggers': ('branch:to:agent', 'start:agent', 'tools'), 'langgraph_path': ('__pregel_pull', 'agent'), 'langgraph_checkpoint_ns': 'pandas_agent:c81af8dc-dcca-1558-9783-ccfe101f630b|agent:b14f06fb-e603-7404-c464-d0fa2ddbffe6', 'checkpoint_ns': 'pandas_agent:c81af8dc-dcca-1558-9783-ccfe101f630b', 'ls_provider': 'ollama', 'ls_model_name': 'gpt-oss:20b', 'ls_model_type': 'chat', 'ls_temperature': 0.7} \n",
      "\n",
      "Descriptive statistics for your dataset**\n",
      "\n",
      "| Variable          | Count | Mean   | Std Dev | Min | 25% | 50% | 75% | Max |\n",
      "|-------------------|-------|--------|---------|-----|-----|-----|-----|-----|\n",
      "| **age**           | 100 000 | 48.53 | 17.89 | 18 | 33 | 48 | 64 | 79 |\n",
      "| **bmi**           | 100 000 | 29.02 | 6.35 | 18 | 23.5 | 29 | 34.5 | 40 |\n",
      "| **daily_steps**   | 100 000 | 10 480 | 5 484 | 1 000 | 5 729 | 10 468 | 15 229 | 19 999 |\n",
      "| **sleep_hours**   | 100 000 | 6.49 | 2.02 | 3 | 4.7 | 6.5 | 8.2 | 10 |\n",
      "| **water_intake_l**| 100 000 | 2.75 | 1.30 | 0.5 | 1.6 | 2.8 | 3.9 | 5 |\n",
      "| **calories_consumed** | 100 000 | 2 603 | 807 | 1 200 | 1 906 | 2 603 | 3 299 | 3 999 |\n",
      "| **smoker**        | 100 000 | 0.201 | 0.401 | 0 | 0 | 0 | 0 | 1 |\n",
      "| **alcohol**       | 100 000 | 0.300 | 0.458 | 0 | 0 | 0 | 0 | 1 |\n",
      "| **resting_hr**    | 100 000 | 74.46 | 14.42 | 50 | 62 | 74 | 87 | 99 |\n",
      "| **systolic_bp**   | 100 000 | 134.58 | 25.95 | 90 | 112 | 135 | 157 | 179 |\n",
      "| **diastolic_bp**  | 100 000 | 89.51 | 17.35 | 60 | 74 | 89 | 105 | 119 |\n",
      "| **cholesterol**   | 100 000 | 224.30 | 43.33 | 150 | 187 | 224 | 262 | 299 |\n",
      "| **family_history**| 100 000 | 0.299 | 0.458 | 0 | 0 | 0 | 1 | 1 |\n",
      "| **disease_risk**  | 100 000 | 0.248 | 0.432 | 0 | 0 | 0 | 0 | 1 |\n",
      "\n",
      "**Notes**\n",
      "\n",
      "- `smoker`, `alcohol`, `family_history`, and `disease_risk` are binary (0/1) indicators; their means represent the proportion of 1’s.\n",
      "- The dataset contains 100,000 records, all with no missing values in these columns."
     ]
    }
   ],
   "source": [
    "query = \"please give me descriptive statistics of the data\"\n",
    "await log_assistant_graph_steps(query, config)"
   ]
  },
  {
   "cell_type": "code",
   "execution_count": 11,
   "id": "38e39272-a945-4fbc-b224-82e3ae75d8dd",
   "metadata": {},
   "outputs": [
    {
     "name": "stdout",
     "output_type": "stream",
     "text": [
      "ml_agent\n",
      "🔄 Step 1: Node 'agent'\n",
      "Metadata {'thread_id': '2c109ba3-8186-464d-a495-d97f74cfe65e', 'langgraph_step': 1, 'langgraph_node': 'agent', 'langgraph_triggers': ('branch:to:agent', 'start:agent', 'tools'), 'langgraph_path': ('__pregel_pull', 'agent'), 'langgraph_checkpoint_ns': 'ml_agent:555c1346-42f1-44ef-9086-f0426a181e39|agent:f55ba62c-d2e7-029b-6fbd-0482d4f2fe2c', 'checkpoint_ns': 'ml_agent:555c1346-42f1-44ef-9086-f0426a181e39', 'ls_provider': 'ollama', 'ls_model_name': 'gpt-oss:20b', 'ls_model_type': 'chat', 'ls_temperature': 0.7} \n",
      "\n"
     ]
    },
    {
     "name": "stderr",
     "output_type": "stream",
     "text": [
      "2025-10-14 08:22:12,913 - dataframe-chatbot - INFO - #Train examples = 80000\n",
      "2025-10-14 08:22:12,913 - dataframe-chatbot - INFO - #Test examples = 20000\n",
      "2025-10-14 08:22:18,151 - dataframe-chatbot - INFO - Best Parameters: {'max_depth': 10, 'min_samples_leaf': 4, 'min_samples_split': 2}\n",
      "2025-10-14 08:22:18,151 - dataframe-chatbot - INFO - Best CV Macro F1: 0.3439806638365158\n",
      "2025-10-14 08:22:18,151 - dataframe-chatbot - INFO - ----------\n",
      "\n",
      "2025-10-14 08:22:18,177 - dataframe-chatbot - INFO - ---- Train Results ----\n",
      "2025-10-14 08:22:18,178 - dataframe-chatbot - INFO - Recall (binary) = 0.6385153850027698\n",
      "2025-10-14 08:22:18,178 - dataframe-chatbot - INFO - Precision (binary) = 0.27773761801493946\n",
      "2025-10-14 08:22:18,178 - dataframe-chatbot - INFO - F1-score (binary) = 0.38709775905232946\n",
      "2025-10-14 08:22:18,178 - dataframe-chatbot - INFO - ----------\n",
      "\n",
      "2025-10-14 08:22:18,178 - dataframe-chatbot - INFO - ---- Test Results ----\n",
      "2025-10-14 08:22:18,179 - dataframe-chatbot - INFO - Recall (binary) = 0.5703062046736502\n",
      "2025-10-14 08:22:18,179 - dataframe-chatbot - INFO - Precision (binary) = 0.24561860142287004\n",
      "2025-10-14 08:22:18,180 - dataframe-chatbot - INFO - F1-score (binary) = 0.3433596118859915\n"
     ]
    },
    {
     "name": "stdout",
     "output_type": "stream",
     "text": [
      "\n",
      "🔄 Step 2: Node 'tools'\n",
      "   └── Executing tool: python_repl_ast\n",
      "Metadata {'thread_id': '2c109ba3-8186-464d-a495-d97f74cfe65e', 'langgraph_step': 2, 'langgraph_node': 'tools', 'langgraph_triggers': ('branch:to:tools',), 'langgraph_path': ('__pregel_pull', 'tools'), 'langgraph_checkpoint_ns': 'ml_agent:555c1346-42f1-44ef-9086-f0426a181e39|tools:f0b93955-9779-0707-c999-4c8d6c68884c', 'checkpoint_ns': 'ml_agent:555c1346-42f1-44ef-9086-f0426a181e39'} \n",
      "\n",
      "{\"model_uri\": \"/home/davit/medium/dataframe_chatbot/models/decision_tree/model.joblib\", \"metrics\": {\"train\": {\"Recall (binary)\": 0.6385153850027698, \"Precision (binary)\": 0.27773761801493946, \"F1-score (binary)\": 0.38709775905232946}, \"test\": {\"Recall (binary)\": 0.5703062046736502, \"Precision (binary)\": 0.24561860142287004, \"F1-score (binary)\": 0.3433596118859915}}}\n",
      "🔄 Step 3: Node 'agent'\n",
      "Metadata {'thread_id': '2c109ba3-8186-464d-a495-d97f74cfe65e', 'langgraph_step': 3, 'langgraph_node': 'agent', 'langgraph_triggers': ('branch:to:agent', 'start:agent', 'tools'), 'langgraph_path': ('__pregel_pull', 'agent'), 'langgraph_checkpoint_ns': 'ml_agent:555c1346-42f1-44ef-9086-f0426a181e39|agent:4efde3eb-1ba3-45ce-2b67-dc7f7aa7f7ae', 'checkpoint_ns': 'ml_agent:555c1346-42f1-44ef-9086-f0426a181e39', 'ls_provider': 'ollama', 'ls_model_name': 'gpt-oss:20b', 'ls_model_type': 'chat', 'ls_temperature': 0.7} \n",
      "\n",
      "A decision‑tree classifier was trained with **`disease_risk`** as the target (binary classification).  \n",
      "The model was fitted on the training split and evaluated on the held‑out test set.  \n",
      "\n",
      "**Performance metrics**\n",
      "\n",
      "| Set | Recall | Precision | F1‑score |\n",
      "|-----|--------|-----------|----------|\n",
      "| **Training** | 0.639 | 0.278 | 0.387 |\n",
      "| **Test**     | 0.570 | 0.246 | 0.343 |\n",
      "\n",
      "*The model is stored at:*  \n",
      "`/home/davit/medium/dataframe_chatbot/models/decision_tree/model.joblib`\n",
      "\n",
      "Let me know if you’d like to:\n",
      "\n",
      "* Visualise the tree (`export_decision_tree_to_text()`)  \n",
      "* Make predictions on new data (`model_inference(...)`)  \n",
      "* Compute additional metrics (`compute_accuracy_metrics(...)`)"
     ]
    }
   ],
   "source": [
    "query = \"Let's now build a decision tree model using as our target variable 'disease_risk'\"\n",
    "await log_assistant_graph_steps(query, config)"
   ]
  },
  {
   "cell_type": "code",
   "execution_count": 12,
   "id": "4b2a2089-1ea0-4850-a970-3afd4aa749ea",
   "metadata": {},
   "outputs": [
    {
     "name": "stdout",
     "output_type": "stream",
     "text": [
      "pandas_agent\n",
      "🔄 Step 1: Node 'agent'\n",
      "Metadata {'thread_id': '2c109ba3-8186-464d-a495-d97f74cfe65e', 'langgraph_step': 1, 'langgraph_node': 'agent', 'langgraph_triggers': ('branch:to:agent', 'start:agent', 'tools'), 'langgraph_path': ('__pregel_pull', 'agent'), 'langgraph_checkpoint_ns': 'pandas_agent:4f084b36-620c-2963-e3ec-c6116f57656b|agent:4d755504-d16a-0e86-cd5f-6b8ab0195196', 'checkpoint_ns': 'pandas_agent:4f084b36-620c-2963-e3ec-c6116f57656b', 'ls_provider': 'ollama', 'ls_model_name': 'gpt-oss:20b', 'ls_model_type': 'chat', 'ls_temperature': 0.7} \n",
      "\n",
      "\n",
      "🔧 Calling tool: python_repl_ast\n",
      "\n",
      "🔄 Step 2: Node 'tools'\n",
      "   └── Executing tool: python_repl_ast\n",
      "Metadata {'thread_id': '2c109ba3-8186-464d-a495-d97f74cfe65e', 'langgraph_step': 2, 'langgraph_node': 'tools', 'langgraph_triggers': ('branch:to:tools',), 'langgraph_path': ('__pregel_pull', 'tools'), 'langgraph_checkpoint_ns': 'pandas_agent:4f084b36-620c-2963-e3ec-c6116f57656b|tools:962d414f-49ab-c5b5-f1af-ca3e65546869', 'checkpoint_ns': 'pandas_agent:4f084b36-620c-2963-e3ec-c6116f57656b'} \n",
      "\n",
      "disease_risk\n",
      "0    0.75179\n",
      "1    0.24821\n",
      "Name: proportion, dtype: float64\n",
      "\n",
      "🔄 Step 3: Node 'agent'\n",
      "Metadata {'thread_id': '2c109ba3-8186-464d-a495-d97f74cfe65e', 'langgraph_step': 3, 'langgraph_node': 'agent', 'langgraph_triggers': ('branch:to:agent', 'start:agent', 'tools'), 'langgraph_path': ('__pregel_pull', 'agent'), 'langgraph_checkpoint_ns': 'pandas_agent:4f084b36-620c-2963-e3ec-c6116f57656b|agent:090dfa93-e7be-5454-3466-6f1b80d64aca', 'checkpoint_ns': 'pandas_agent:4f084b36-620c-2963-e3ec-c6116f57656b', 'ls_provider': 'ollama', 'ls_model_name': 'gpt-oss:20b', 'ls_model_type': 'chat', 'ls_temperature': 0.7} \n",
      "\n",
      "**Distribution of the target variable `disease_risk`**\n",
      "\n",
      "| Value | Count | Proportion |\n",
      "|-------|-------|------------|\n",
      "| 0 (No risk) | 75,179 | 75.18 % |\n",
      "| 1 (Risk)    | 24,821 | 24.82 % |\n",
      "\n",
      "So about **24.8 %** of the records indicate a disease risk, while the remaining **75.2 %** are non‑risk cases."
     ]
    }
   ],
   "source": [
    "query = \"Please give me the value distribution of the column 'disease_risk'\"\n",
    "await log_assistant_graph_steps(query, config)"
   ]
  },
  {
   "cell_type": "code",
   "execution_count": null,
   "id": "0ec4d120-90d1-4f1d-9d96-eefb01033de8",
   "metadata": {},
   "outputs": [],
   "source": []
  },
  {
   "cell_type": "code",
   "execution_count": null,
   "id": "653e8db0-3e09-4e5c-9891-b20739616064",
   "metadata": {},
   "outputs": [],
   "source": []
  },
  {
   "cell_type": "code",
   "execution_count": null,
   "id": "1a8d3061-a422-4a2c-8f75-aeecb32f746e",
   "metadata": {},
   "outputs": [],
   "source": []
  }
 ],
 "metadata": {
  "kernelspec": {
   "display_name": "Python 3 (ipykernel)",
   "language": "python",
   "name": "python3"
  },
  "language_info": {
   "codemirror_mode": {
    "name": "ipython",
    "version": 3
   },
   "file_extension": ".py",
   "mimetype": "text/x-python",
   "name": "python",
   "nbconvert_exporter": "python",
   "pygments_lexer": "ipython3",
   "version": "3.11.8"
  }
 },
 "nbformat": 4,
 "nbformat_minor": 5
}
